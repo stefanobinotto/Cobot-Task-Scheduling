{
 "cells": [
  {
   "cell_type": "code",
   "execution_count": 1,
   "metadata": {},
   "outputs": [],
   "source": [
    "# Simpler env version"
   ]
  },
  {
   "cell_type": "markdown",
   "metadata": {
    "id": "TS6bKRkuCfPA"
   },
   "source": [
    "## Task\n",
    "\n",
    "A color sample folder is composed of one or more sheets where color samples corresponding to one collection are glued (fabric samples, mosaic samples, wood samples, etc.).\n",
    "\n",
    "The samples are typically glued to the sheets using double-sided tape by paper manufacturing workers: this is a **repetitive job, that requires concentration both to select the right sample and to correctly position it**.\n",
    "\n",
    "For this reason, we developed a **collaborative framework** where cobot and human operator collaborate together in the realization of single parts of a mosaic tiles color sample folder.\n",
    "\n",
    "In particular, **the cobot can intervene when the operator’s productivity and concentration decrease**, carrying out tasks initially assigned to the operator."
   ]
  },
  {
   "cell_type": "markdown",
   "metadata": {
    "id": "8kb5buP6DTY7",
    "jp-MarkdownHeadingCollapsed": true
   },
   "source": [
    "### Setup\n",
    "\n",
    "![Setup.png](data:image/png;base64,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)\n",
    "\n",
    "*   Activities organized in cycles\n",
    "*   Each cycle is composed of **20 tasks**\n",
    "*   Each task consists of assembling a sheet (group of mosaic tiles). For instance: task 1 &rarr; 3 mosaic tiles,\n",
    "task 2 &rarr; 4 mosaic tiles\n",
    "*   Tasks are assigned to the robot and the operator\n",
    "*   The **robot can not** perform tasks **1, 2, 3, 4, 5, 6, 10** (outside the reachable\n",
    "space)\n",
    "*   The **operator can not** perform tasks **11, 15, 16, 17, 18, 19, 20**\n",
    "\n"
   ]
  },
  {
   "cell_type": "markdown",
   "metadata": {
    "id": "HfVCO3bbAUoy"
   },
   "source": [
    "## MDP"
   ]
  },
  {
   "cell_type": "code",
   "execution_count": 7,
   "metadata": {
    "id": "gLGuis8vqbkU"
   },
   "outputs": [],
   "source": [
    "import numpy as np\n",
    "np.random.seed(1) "
   ]
  },
  {
   "cell_type": "code",
   "execution_count": 16,
   "metadata": {
    "colab": {
     "base_uri": "https://localhost:8080/",
     "height": 106
    },
    "id": "OT_N4GvzMtxm",
    "outputId": "d0cf3505-89ae-40e5-87f0-0bb08b4d3b49"
   },
   "outputs": [],
   "source": [
    "class CobotEnv:\n",
    "    \"\"\"\n",
    "    The Cobot environment\n",
    "    \"\"\"\n",
    "\n",
    "    def __init__(self, n_operators: int, robot_execution_time: list, id_operator: int, mu_operators: tuple, std: float = 0.04) -> None:\n",
    "        \"\"\"\n",
    "        Initializes an Cobot environment\n",
    "\n",
    "        Parameters\n",
    "        ----------\n",
    "        n_operators : int\n",
    "            Number of human operators\n",
    "        robot_execution_time : list\n",
    "            List containing the robot task processing time\n",
    "        id_operator : int\n",
    "            Id of the operator\n",
    "        mu_operators : tuple\n",
    "            Tuple of shape (n_operators x n_tasks) containing the mean values of the normal distribution for each task for each human operator\n",
    "        std : float\n",
    "            Standard deviation of the normal distribution used to sample operators' processing time (default 0.04)\n",
    "        \"\"\"\n",
    "        self.std = std\n",
    "        self.robot_execution_time = np.array(robot_execution_time) # robot tasks execution time\n",
    "        self.n_operators = n_operators\n",
    "        self.mu_operators = mu_operators\n",
    "        assert len(self.mu_operators) == self.n_operators, \"Invalid Input!\" # 'mu_operators' must have the same length as n_operators\n",
    "\n",
    "        # Ids of the tasks performable by robot and human operators\n",
    "        self.robot_task_id = np.array((7,8,9,11,12,13,14,15,16,17,18,19,20))\n",
    "        self.operator_task_id = np.array((1,2,3,4,5,6,7,8,9,10,12,13,14))\n",
    "\n",
    "        #set the initial state and sample new processing time of human operators\n",
    "        self.reset(id_operator)\n",
    "\n",
    "\n",
    "    def reset(self, id_operator: int) -> tuple[tuple, np.ndarray]:\n",
    "        \"\"\"\n",
    "        Reset the environment to the initial state and re-sample new processing time of the human operators and returns the initial observation\n",
    "\n",
    "        Parameters\n",
    "        ----------\n",
    "        id_operator : int\n",
    "            Id of the operator\n",
    "\n",
    "        Returns\n",
    "        -------\n",
    "        tuple, np.ndarray\n",
    "            Initial state of the environment and sampled execution time of the human operators\n",
    "        \"\"\"\n",
    "\n",
    "        self.operators_sampled_time = self.sample_process_time() #operators processing time: (n_operators x n_tasks)\n",
    "        self.id_operator = id_operator\n",
    "        \n",
    "        # State\n",
    "        self.robot_done = np.zeros(len(self.robot_task_id), dtype='int') # 0 = not done, 1 = done\n",
    "        self.robot_scheduled = 0 # id of the task the robot has scheduled, 0 otherwise\n",
    "        self.operator_done = np.zeros(len(self.operator_task_id), dtype='int') # 0 = not done, 1 = done\n",
    "        self.operator_scheduled = 0 # id of the task the operator has scheduled, 0 otherwise\n",
    "        self.operator_execution_time = np.copy(self.operators_sampled_time[self.id_operator]) # operators tasks execution time\n",
    "\n",
    "        return self.get_state(), self.operators_sampled_time\n",
    "\n",
    "\n",
    "    def step(self, action: int, new_id_operator: int = None) -> tuple[tuple, float, bool]:\n",
    "        \"\"\"\n",
    "        Simulates scheduling action and calculates rewards\n",
    "\n",
    "        Parameters\n",
    "        ----------\n",
    "        action : int\n",
    "            Id of the next scheduled tasks\n",
    "        new_id_operator : Optional[int]\n",
    "            Id of the new operator, None otherwise\n",
    "        \n",
    "        Returns\n",
    "        -------\n",
    "        tuple, float, bool\n",
    "            Current state of the environment, reward, whether the episode is over or not\n",
    "        \"\"\"\n",
    "\n",
    "        assert (action >= min(min(robot_task_id),min(operator_task_id))) and (action <= max(max(robot_task_id),max(operator_task_id))), \"Invalid input!\"\n",
    "        \n",
    "        # change operator and update execution time in state\n",
    "        if new_id_operator is not None:\n",
    "            \n",
    "            self.set_operator(new_id_operator)\n",
    "        \n",
    "        #######################\n",
    "        ### Task assignment ###\n",
    "        #######################\n",
    "        \n",
    "        # both robot and operator have no task scheduled\n",
    "        # REMEMBER: in this case both robot and operator always have at least one schedulable task, and there are at least 2 tasks left\n",
    "        if self.operator_scheduled == 0 and self.robot_scheduled == 0:\n",
    "            \n",
    "            # assign to robot\n",
    "            self.robot_scheduled = action\n",
    "            \n",
    "            if self.check_and_finish():\n",
    "                return self.get_state(), -self.get_total_time(), True\n",
    "\n",
    "            # end step\n",
    "            return self.get_state(), 0, False\n",
    "\n",
    "        # robot has no task scheduled\n",
    "        elif self.robot_scheduled == 0:\n",
    "\n",
    "            # update state - robot\n",
    "            self.robot_scheduled = action\n",
    "\n",
    "        # operator has no task scheduled\n",
    "        else:\n",
    "\n",
    "            # update state - operator\n",
    "            self.operator_scheduled = action\n",
    "\n",
    "        \n",
    "        ########################\n",
    "        ### Task fulfillment ###\n",
    "        ########################\n",
    "        \n",
    "        # accomplished robot tasks time + robot scheduled task ex. time\n",
    "        robot_time = np.sum(self.robot_done*self.robot_execution_time) + self.robot_execution_time[np.where(self.robot_task_id==self.robot_scheduled)[0][0]]\n",
    "        # accomplished operator tasks time + operator scheduled task ex. time\n",
    "        operator_time = np.sum(self.operator_done*self.operator_execution_time) + self.operator_execution_time[np.where(self.operator_task_id==self.operator_scheduled)[0][0]]\n",
    "\n",
    "        # robot finishes first\n",
    "        if robot_time < operator_time:\n",
    "            \n",
    "            # update state - robot\n",
    "            self.robot_done[np.where(self.robot_task_id==self.robot_scheduled)[0][0]] = 1 # set the scheduled task as \"done\"\n",
    "            self.robot_scheduled = 0\n",
    "                \n",
    "            if self.check_and_finish():\n",
    "                return self.get_state(), -self.get_total_time(), True\n",
    "\n",
    "        # operator finishes first\n",
    "        elif robot_time > operator_time:\n",
    "\n",
    "            # update state - operator\n",
    "            self.operator_done[np.where(self.operator_task_id==self.operator_scheduled)[0][0]] = 1 # set the scheduled task as \"done\"\n",
    "            self.operator_scheduled = 0\n",
    "            \n",
    "            if self.check_and_finish():\n",
    "                return self.get_state(), -self.get_total_time(), True\n",
    "            \n",
    "        # robot and operator finish simultaneously\n",
    "        else:\n",
    "\n",
    "            # update state\n",
    "            self.robot_done[np.where(self.robot_task_id==self.robot_scheduled)[0][0]] = 1 # set the scheduled task as \"done\"\n",
    "            self.robot_scheduled = 0\n",
    "            self.operator_done[np.where(self.operator_task_id==self.operator_scheduled)[0][0]] = 1 # set the scheduled task as \"done\"\n",
    "            self.operator_scheduled = 0\n",
    "\n",
    "            if self.check_and_finish():\n",
    "                self.get_state(), -self.get_total_time(), True\n",
    "\n",
    "        # end of step\n",
    "        return self.get_state(), 0, False\n",
    "\n",
    "\n",
    "    def check_and_finish() -> bool:\n",
    "        \"\"\"\n",
    "        Returns\n",
    "        -------\n",
    "        bool\n",
    "            True if the episode is over, False otherwise\n",
    "        \"\"\"\n",
    "\n",
    "        if self.robot_scheduled == 0 and self.operator_scheduled == 0:\n",
    "            \n",
    "            # Check whether robot and operator have no schedulable tasks in common (come quando sono finiti i task: is_over() = True) or one of them has no longer schedulable tasks\n",
    "            \n",
    "            robot_task_done = self.robot_task_id * self.robot_done\n",
    "            operator_task_done = self.operator_task_id * self.operator_done\n",
    "            task_scheduled_so_far = np.concatenate((robot_task_done[robot_task_done!=0], operator_task_done[operator_task_done!=0]))\n",
    "            \n",
    "            robot_task_to_be_done = np.setdiff1d(self.robot_task_id, task_scheduled_so_far)\n",
    "            operator_task_to_be_done = np.setdiff1d(self.operator_task_id, task_scheduled_so_far)\n",
    "\n",
    "            # if robot and operator have no schedulable tasks in common\n",
    "            if np.intersect1d(robot_task_to_be_done, operator_task_to_be_done).size == 0:\n",
    "                \n",
    "                self.robot_done[np.where(np.isin(self.robot_task_id, robot_task_to_be_done))[0]] = 1\n",
    "                self.operator_done[np.where(np.isin(self.operator_task_id, operator_task_to_be_done))[0]] = 1\n",
    "            \n",
    "                return True # end of episode\n",
    "\n",
    "            #if the there's a common task, but it's the last one left\n",
    "            elif task_scheduled_so_far.size == 19:\n",
    "\n",
    "                # if robot completes the last task faster than (or equal to) operator\n",
    "                if self.robot_execution_time[np.where(self.robot_task_id==self.robot_task_to_be_done[0])[0][0]] <= \\\n",
    "                    self.operator_execution_time[np.where(self.operator_task_id==self.operator_task_to_be_done[0])[0][0]]:\n",
    "                    \n",
    "                    # robot finisce l'ultimo task, poi finisci episodio    \n",
    "                    self.robot_done[np.where(np.isin(self.robot_task_id, robot_task_to_be_done))[0]] = 1\n",
    "                    \n",
    "                else:\n",
    "                    \n",
    "                    # operator finisce l'ultimo task, poi finisci episodio    \n",
    "                    self.operator_done[np.where(np.isin(self.operator_task_id, operator_task_to_be_done))[0]] = 1\n",
    "                    \n",
    "                # end of episode\n",
    "                return True\n",
    "                \n",
    "        elif self.robot_scheduled == 0:\n",
    "\n",
    "            # Check whether robot and operator have no schedulable tasks in common, or robot  has no longer a schedulable task\n",
    "            \n",
    "            robot_task_done = self.robot_task_id * self.robot_done\n",
    "            operator_task_done = self.operator_task_id * self.operator_done\n",
    "            task_scheduled_so_far = np.concatenate((robot_task_done[robot_task_done!=0], operator_task_done[operator_task_done!=0], [self.operator_scheduled]))\n",
    "            \n",
    "            robot_task_to_be_done = np.setdiff1d(self.robot_task_id, task_scheduled_so_far)\n",
    "            operator_task_to_be_done = np.setdiff1d(self.operator_task_id, task_scheduled_so_far)\n",
    "\n",
    "            # if robot and operator have no schedulable tasks in common\n",
    "            if np.intersect1d(robot_task_to_be_done, operator_task_to_be_done).size == 0:\n",
    "\n",
    "                # execute operator scheduled task\n",
    "                self.operator_done[np.where(self.operator_task_id==self.operator_scheduled)[0][0]] = 1\n",
    "                self.operator_scheduled = 0\n",
    "            \n",
    "                self.robot_done[np.where(np.isin(self.robot_task_id, robot_task_to_be_done))[0]] = 1\n",
    "                self.operator_done[np.where(np.isin(self.operator_task_id, operator_task_to_be_done))[0]] = 1\n",
    "            \n",
    "                return True # end of episode\n",
    "\n",
    "            #if the there's a common task, but robot has only that task left, and it's waiting for it\n",
    "            elif robot_task_to_be_done.size == 1:\n",
    "            \n",
    "                # execute operator scheduled task\n",
    "                self.operator_done[np.where(self.operator_task_id==self.operator_scheduled)[0][0]] = 1\n",
    "                self.operator_scheduled = 0\n",
    "               \n",
    "                self.robot_done[np.where(np.isin(self.robot_task_id, robot_task_to_be_done))[0]] = 1           \n",
    "                self.operator_done[np.where(np.isin(self.operator_task_id, operator_task_to_be_done))[0]] = 1\n",
    "                self.operator_done[np.where(np.isin(self.operator_task_id, robot_task_to_be_done))[0]] = 0 # l'ultimo task rimasto al robot, che è un task in comune, non deve essere segnato fatto anche da operator  \n",
    "\n",
    "                # end of episode\n",
    "                return True\n",
    "\n",
    "        else: #self.operator_scheduled == 0\n",
    "            # Check whether robot and operator have no schedulable tasks in common\n",
    "            \n",
    "            robot_task_done = self.robot_task_id * self.robot_done\n",
    "            operator_task_done = self.operator_task_id * self.operator_done\n",
    "            task_scheduled_so_far = np.concatenate((robot_task_done[robot_task_done!=0], operator_task_done[operator_task_done!=0], [self.robot_scheduled]))\n",
    "            \n",
    "            robot_task_to_be_done = np.setdiff1d(self.robot_task_id, task_scheduled_so_far)\n",
    "            operator_task_to_be_done = np.setdiff1d(self.operator_task_id, task_scheduled_so_far)\n",
    "\n",
    "            # if robot and operator have no schedulable tasks in common\n",
    "            if np.intersect1d(robot_task_to_be_done, operator_task_to_be_done).size == 0:\n",
    "\n",
    "                # execute robot scheduled task\n",
    "                self.robot_done[np.where(self.robot_task_id==self.robot_scheduled)[0][0]] = 1\n",
    "                self.robot_scheduled = 0\n",
    "            \n",
    "                self.robot_done[np.where(np.isin(self.robot_task_id, robot_task_to_be_done))[0]] = 1\n",
    "                self.operator_done[np.where(np.isin(self.operator_task_id, operator_task_to_be_done))[0]] = 1\n",
    "            \n",
    "                return True # end of episode\n",
    "\n",
    "            #if the there's a common task, but operator has only that task left, and it's waiting for it\n",
    "            elif operator_task_to_be_done.size == 1:\n",
    "            \n",
    "                # execute robot scheduled task\n",
    "                self.robot_done[np.where(self.robot_task_id==self.robot_scheduled)[0][0]] = 1\n",
    "                self.robot_scheduled = 0\n",
    "\n",
    "                self.robot_done[np.where(np.isin(self.robot_task_id, robot_task_to_be_done))[0]] = 1\n",
    "                self.robot_done[np.where(np.isin(self.robot_task_id, operator_task_to_be_done))[0]] = 0\n",
    "                self.operator_done[np.where(np.isin(self.operator_task_id, operator_task_to_be_done))[0]] = 1\n",
    "            \n",
    "                # end of episode\n",
    "                return True\n",
    "            \n",
    "            \n",
    "    def sample_process_time(self) -> np.ndarray:\n",
    "        \"\"\"\n",
    "        Samples processing time for each task for each operator\n",
    "\n",
    "        Returns\n",
    "        -------\n",
    "        np.ndarray\n",
    "            Array of shape (n_operators x n_tasks) containing the processing time for each task for each operator\n",
    "        \"\"\"\n",
    "        \n",
    "        return np.array([np.around(np.random.normal(loc=self.mu_operators[i], scale=self.std), decimals=3) for i in range(self.n_operators)])\n",
    "\n",
    "\n",
    "    def set_operator(self, new_id_operator: int) -> None:\n",
    "        \"\"\"\n",
    "        Set new operator and change operator execution time in state\n",
    "\n",
    "        Parameters\n",
    "        ----------\n",
    "        id_operator : int\n",
    "            Id of the new operator\n",
    "        \"\"\"\n",
    "        \n",
    "        assert new_id_operator < self.n_operators, \"Invalid Input!\"\n",
    "\n",
    "        # set new id operator\n",
    "        self.id_operator = new_id_operator\n",
    "        \n",
    "        # only update the time of those tasks that are not done by robot or operator yet \n",
    "        self.operator_execution_time[np.intersect1d(np.where(self.operator_done==0)[0], np.where(self.robot_done==0)[0])] = \\\n",
    "                self.operators_sampled_time[self.id_operator][np.intersect1d(np.where(self.operator_done==0)[0], np.where(self.robot_done==0)[0])]\n",
    "\n",
    "\n",
    "    def is_over(self) -> bool:\n",
    "        \"\"\"\n",
    "        Check whether the episode is over\n",
    "\n",
    "        Returns\n",
    "        -------\n",
    "        bool\n",
    "            True whether the episode is over, False otherwise\n",
    "        \"\"\"\n",
    "        \n",
    "        return np.sum(self.robot_done) + np.sum(self.operator_done) == 20.0 # sum of number tasks done by robot and tasks done by operators must be 20 at the end of an episode\n",
    "\n",
    "    \n",
    "    def get_total_time(self) -> float:\n",
    "        \"\"\"\n",
    "        Return the total elapsed time of the episode\n",
    "\n",
    "        Returns\n",
    "        -------\n",
    "        float\n",
    "            Episode elapsed time\n",
    "        \"\"\"\n",
    "        \n",
    "        # robot total time\n",
    "        r = np.sum(self.robot_done*self.robot_execution_time)\n",
    "        # operator total time\n",
    "        t = np.sum(self.operator_done*self.operator_execution_time)\n",
    "        \n",
    "        return max(r,t)\n",
    "\n",
    "\n",
    "    def get_state(self) -> tuple:\n",
    "        \"\"\"\n",
    "        Return the current state of the environment\n",
    "\n",
    "        Returns\n",
    "        -------\n",
    "        np.ndarray\n",
    "            Current state\n",
    "        \"\"\"\n",
    "        \n",
    "        return self.robot_done, self.robot_scheduled, self.robot_execution_time, self.operator_done, self.operator_scheduled, self.operator_execution_time"
   ]
  },
  {
   "cell_type": "markdown",
   "metadata": {},
   "source": [
    "## TEST"
   ]
  },
  {
   "cell_type": "code",
   "execution_count": 3,
   "metadata": {
    "colab": {
     "base_uri": "https://localhost:8080/"
    },
    "id": "iPeTRUJeauOy",
    "outputId": "12190ced-5a38-48b0-f44b-d083cc835b73"
   },
   "outputs": [
    {
     "name": "stdout",
     "output_type": "stream",
     "text": [
      "Robot process time for each possible task it can perform:  (0.372, 1.1, 0.685, 0.47, 0.489, 0.271, 1.1, 0.62, 0.333, 0.23, 0.878, 0.809, 0.711) \n",
      "\n",
      "Slow operator process time for each possible task it can perform:  (0.5, 0.667, 0.333, 1, 0.5, 0.5, 0.333, 1, 0.667, 0.5, 0.667, 0.5, 1) \n",
      "\n",
      "Expert operator process time for each possible task it can perform:  (0.4, 0.534, 0.266, 0.8, 0.4, 0.4, 0.266, 0.8, 0.534, 0.4, 0.534, 0.4, 0.8) \n",
      "\n"
     ]
    }
   ],
   "source": [
    "robot_process_time = (0.372,1.1,0.685,0.47,0.489,0.271,1.1,0.62,0.333,0.23,0.878,0.809,0.711) # taken from data, constant\n",
    "slow_operator_process_time = (0.5,0.667,0.333,1,0.5,0.5,0.333,1,0.667,0.5,0.667,0.5,1) # taken from data, used as mean values\n",
    "t=0.8\n",
    "expert_operator_process_time = tuple([round(mu*t, 3) for mu in slow_operator_process_time]) # 80% of slow operator, used as mean values\n",
    "mu_operators = (slow_operator_process_time,expert_operator_process_time)\n",
    "\n",
    "print(\"Robot process time for each possible task it can perform: \",robot_process_time,'\\n')\n",
    "print(\"Slow operator process time for each possible task it can perform: \",slow_operator_process_time,'\\n')\n",
    "print(\"Expert operator process time for each possible task it can perform: \",expert_operator_process_time,'\\n')"
   ]
  },
  {
   "cell_type": "code",
   "execution_count": 4,
   "metadata": {},
   "outputs": [],
   "source": [
    "env = CobotEnv(2, robot_process_time, 0, mu_operators, 0.04)"
   ]
  },
  {
   "cell_type": "code",
   "execution_count": 5,
   "metadata": {},
   "outputs": [
    {
     "name": "stdout",
     "output_type": "stream",
     "text": [
      "Step numero  0\n",
      "- Stato: \n",
      " [[0.    0.    0.    0.    0.    0.    0.    0.    0.    0.    0.    0.\n",
      "  0.   ]\n",
      " [0.    0.    0.    0.    0.    0.    0.    0.    0.    0.    0.    0.\n",
      "  0.   ]\n",
      " [0.372 1.1   0.685 0.47  0.489 0.271 1.1   0.62  0.333 0.23  0.878 0.809\n",
      "  0.711]\n",
      " [0.    0.    0.    0.    0.    0.    0.    0.    0.    0.    0.    0.\n",
      "  0.   ]\n",
      " [0.    0.    0.    0.    0.    0.    0.    0.    0.    0.    0.    0.\n",
      "  0.   ]\n",
      " [0.565 0.643 0.312 0.957 0.535 0.408 0.403 0.97  0.68  0.49  0.725 0.418\n",
      "  0.987]]\n",
      "- Total time:  0.0\n",
      "- Is over?  False\n"
     ]
    }
   ],
   "source": [
    "i = 0\n",
    "print(\"Step numero \", i)\n",
    "print(\"- Stato: \\n\",env.state)\n",
    "print(\"- Total time: \",env.get_total_time())\n",
    "print(\"- Is over? \", env.is_over())"
   ]
  },
  {
   "cell_type": "code",
   "execution_count": 6,
   "metadata": {
    "scrolled": true
   },
   "outputs": [
    {
     "name": "stdout",
     "output_type": "stream",
     "text": [
      "Step numero  1\n",
      "- Stato: \n",
      " [[ 1.     0.     0.     0.     0.     0.     0.     0.     0.     0.\n",
      "   0.     0.     0.   ]\n",
      " [ 0.     0.     1.     7.     2.     0.     3.     8.     4.     9.\n",
      "   5.    10.     6.   ]\n",
      " [ 0.372  1.1    0.685  0.47   0.489  0.271  1.1    0.62   0.333  0.23\n",
      "   0.878  0.809  0.711]\n",
      " [ 0.     0.     0.     0.     0.     0.     0.     0.     0.     0.\n",
      "   0.     0.     0.   ]\n",
      " [ 3.     5.     6.     7.     8.     9.     0.     2.     0.     4.\n",
      "   0.     1.     0.   ]\n",
      " [ 0.385  0.579  0.222  0.793  0.365  0.402  0.289  0.756  0.58   0.436\n",
      "   0.554  0.436  0.773]]\n",
      "- Reward:  0\n",
      "- Is over?  False\n"
     ]
    }
   ],
   "source": [
    "i += 1\n",
    "print(\"Step numero \", i)\n",
    "s,r,b = env.step([[1,0,2,8,3,0,4,9,5,10,6,11,7],[3,5,6,7,8,9,0,2,0,4,0,1,0]],1)\n",
    "print(\"- Stato: \\n\",s)\n",
    "print(\"- Reward: \",r)\n",
    "print(\"- Is over? \",b)"
   ]
  },
  {
   "cell_type": "code",
   "execution_count": 7,
   "metadata": {},
   "outputs": [
    {
     "name": "stdout",
     "output_type": "stream",
     "text": [
      "Step numero  2\n",
      "- Stato: \n",
      " [[1.    0.    1.    0.    0.    0.    0.    0.    0.    0.    0.    0.\n",
      "  0.   ]\n",
      " [0.    0.    0.    6.    1.    0.    2.    7.    3.    8.    4.    9.\n",
      "  5.   ]\n",
      " [0.372 1.1   0.685 0.47  0.489 0.271 1.1   0.62  0.333 0.23  0.878 0.809\n",
      "  0.711]\n",
      " [0.    0.    0.    0.    0.    0.    0.    0.    0.    0.    0.    1.\n",
      "  0.   ]\n",
      " [2.    3.    4.    5.    6.    7.    0.    1.    0.    8.    0.    0.\n",
      "  0.   ]\n",
      " [0.385 0.579 0.222 0.793 0.365 0.402 0.289 0.756 0.58  0.436 0.554 0.436\n",
      "  0.773]]\n",
      "- Reward:  0\n",
      "- Is over?  False\n"
     ]
    }
   ],
   "source": [
    "i += 1\n",
    "print(\"Step numero \", i)\n",
    "s,r,b = env.step([[0,0,2,8,3,1,4,9,5,10,6,11,7],[2,3,4,5,6,7,0,1,0,8,0,0,0]])\n",
    "print(\"- Stato: \\n\",s)\n",
    "print(\"- Reward: \",r)\n",
    "print(\"- Is over? \",b)"
   ]
  },
  {
   "cell_type": "code",
   "execution_count": 8,
   "metadata": {},
   "outputs": [
    {
     "name": "stdout",
     "output_type": "stream",
     "text": [
      "Step numero  3\n",
      "- Stato: \n",
      " [[1.    0.    1.    0.    1.    0.    0.    0.    0.    0.    0.    0.\n",
      "  0.   ]\n",
      " [0.    0.    0.    5.    0.    0.    1.    6.    2.    7.    3.    8.\n",
      "  4.   ]\n",
      " [0.372 1.1   0.685 0.47  0.489 0.271 1.1   0.62  0.333 0.23  0.878 0.809\n",
      "  0.711]\n",
      " [0.    0.    0.    0.    0.    0.    0.    1.    0.    0.    0.    1.\n",
      "  0.   ]\n",
      " [1.    2.    3.    4.    5.    6.    0.    0.    0.    7.    0.    0.\n",
      "  0.   ]\n",
      " [0.385 0.643 0.222 0.957 0.535 0.408 0.403 0.756 0.68  0.49  0.725 0.436\n",
      "  0.987]]\n",
      "- Reward:  0\n",
      "- Is over?  False\n"
     ]
    }
   ],
   "source": [
    "i += 1\n",
    "print(\"Step numero \", i)\n",
    "s,r,b = env.step([[0,0,0,6,1,0,2,7,3,8,4,9,5],[2,3,4,5,6,7,0,1,0,8,0,0,0]],0)\n",
    "print(\"- Stato: \\n\",s)\n",
    "print(\"- Reward: \",r)\n",
    "print(\"- Is over? \",b)"
   ]
  },
  {
   "cell_type": "code",
   "execution_count": 9,
   "metadata": {
    "scrolled": true
   },
   "outputs": [
    {
     "name": "stdout",
     "output_type": "stream",
     "text": [
      "Step numero  4\n",
      "- Stato: \n",
      " [[1.    0.    1.    1.    1.    0.    0.    0.    0.    0.    0.    0.\n",
      "  0.   ]\n",
      " [0.    0.    0.    0.    0.    0.    0.    1.    2.    3.    4.    5.\n",
      "  6.   ]\n",
      " [0.372 1.1   0.685 0.47  0.489 0.271 1.1   0.62  0.333 0.23  0.878 0.809\n",
      "  0.711]\n",
      " [1.    0.    0.    0.    0.    0.    0.    1.    0.    0.    0.    1.\n",
      "  0.   ]\n",
      " [0.    2.    3.    4.    5.    6.    0.    0.    0.    7.    0.    0.\n",
      "  1.   ]\n",
      " [0.385 0.643 0.222 0.957 0.535 0.408 0.403 0.756 0.68  0.49  0.725 0.436\n",
      "  0.987]]\n",
      "- Reward:  0\n",
      "- Is over?  False\n"
     ]
    }
   ],
   "source": [
    "i += 1\n",
    "print(\"Step numero \", i)\n",
    "s,r,b = env.step([[0,0,0,1,0,0,0,2,3,4,5,6,7],[2,3,4,5,6,7,0,0,0,8,0,0,1]])\n",
    "print(\"- Stato: \\n\",s)\n",
    "print(\"- Reward: \",r)\n",
    "print(\"- Is over? \",b)"
   ]
  },
  {
   "cell_type": "code",
   "execution_count": 10,
   "metadata": {},
   "outputs": [
    {
     "name": "stdout",
     "output_type": "stream",
     "text": [
      "Step numero  5\n",
      "- Stato: \n",
      " [[1.    0.    1.    1.    1.    0.    0.    1.    0.    0.    0.    0.\n",
      "  0.   ]\n",
      " [0.    0.    0.    0.    0.    0.    0.    0.    1.    2.    3.    4.\n",
      "  5.   ]\n",
      " [0.372 1.1   0.685 0.47  0.489 0.271 1.1   0.62  0.333 0.23  0.878 0.809\n",
      "  0.711]\n",
      " [1.    0.    0.    0.    0.    0.    0.    1.    0.    0.    0.    1.\n",
      "  1.   ]\n",
      " [0.    1.    2.    3.    4.    5.    0.    0.    0.    6.    0.    0.\n",
      "  0.   ]\n",
      " [0.385 0.643 0.222 0.957 0.535 0.408 0.403 0.756 0.68  0.49  0.725 0.436\n",
      "  0.987]]\n",
      "- Reward:  0\n",
      "- Is over?  False\n"
     ]
    }
   ],
   "source": [
    "i += 1\n",
    "print(\"Step numero \", i)\n",
    "s,r,b = env.step([[0,0,0,0,0,0,0,1,2,3,4,5,6],[0,2,3,4,5,6,0,0,0,7,0,0,1]])\n",
    "print(\"- Stato: \\n\",s)\n",
    "print(\"- Reward: \",r)\n",
    "print(\"- Is over? \",b)"
   ]
  },
  {
   "cell_type": "code",
   "execution_count": 11,
   "metadata": {},
   "outputs": [
    {
     "name": "stdout",
     "output_type": "stream",
     "text": [
      "Step numero  6\n",
      "- Stato: \n",
      " [[1.    0.    1.    1.    1.    0.    0.    1.    1.    0.    0.    0.\n",
      "  0.   ]\n",
      " [0.    0.    0.    0.    0.    0.    0.    0.    0.    1.    2.    3.\n",
      "  4.   ]\n",
      " [0.372 1.1   0.685 0.47  0.489 0.271 1.1   0.62  0.333 0.23  0.878 0.809\n",
      "  0.711]\n",
      " [1.    0.    0.    0.    0.    0.    0.    1.    0.    0.    0.    1.\n",
      "  1.   ]\n",
      " [0.    1.    3.    4.    5.    6.    0.    0.    0.    7.    0.    0.\n",
      "  2.   ]\n",
      " [0.385 0.643 0.222 0.957 0.535 0.408 0.403 0.756 0.68  0.49  0.725 0.436\n",
      "  0.987]]\n",
      "- Reward:  0\n",
      "- Is over?  False\n"
     ]
    }
   ],
   "source": [
    "i += 1\n",
    "print(\"Step numero \", i)\n",
    "s,r,b = env.step([[0,0,0,0,0,0,0,0,1,2,3,4,5],[0,2,3,4,5,6,0,0,0,7,0,0,1]])\n",
    "print(\"- Stato: \\n\",s)\n",
    "print(\"- Reward: \",r)\n",
    "print(\"- Is over? \",b)"
   ]
  },
  {
   "cell_type": "code",
   "execution_count": 12,
   "metadata": {},
   "outputs": [
    {
     "name": "stdout",
     "output_type": "stream",
     "text": [
      "Step numero  7\n",
      "- Stato: \n",
      " [[1.    0.    1.    1.    1.    0.    0.    1.    1.    1.    0.    0.\n",
      "  0.   ]\n",
      " [0.    0.    0.    0.    0.    0.    0.    0.    0.    0.    1.    2.\n",
      "  3.   ]\n",
      " [0.372 1.1   0.685 0.47  0.489 0.271 1.1   0.62  0.333 0.23  0.878 0.809\n",
      "  0.711]\n",
      " [1.    0.    0.    0.    0.    0.    0.    1.    0.    0.    0.    1.\n",
      "  1.   ]\n",
      " [0.    1.    3.    4.    5.    6.    0.    0.    0.    2.    0.    0.\n",
      "  0.   ]\n",
      " [0.385 0.643 0.222 0.957 0.535 0.408 0.403 0.756 0.68  0.49  0.725 0.436\n",
      "  0.987]]\n",
      "- Reward:  0\n",
      "- Is over?  False\n"
     ]
    }
   ],
   "source": [
    "i += 1\n",
    "print(\"Step numero \", i)\n",
    "s,r,b = env.step([[0,0,0,0,0,0,0,0,0,1,2,3,4],[0,2,3,4,5,6,0,0,0,1,0,0,0]])\n",
    "print(\"- Stato: \\n\",s)\n",
    "print(\"- Reward: \",r)\n",
    "print(\"- Is over? \",b)"
   ]
  },
  {
   "cell_type": "code",
   "execution_count": 13,
   "metadata": {},
   "outputs": [
    {
     "name": "stdout",
     "output_type": "stream",
     "text": [
      "Step numero  8\n",
      "- Stato: \n",
      " [[1.    0.    1.    1.    1.    0.    0.    1.    1.    1.    1.    0.\n",
      "  0.   ]\n",
      " [0.    0.    0.    0.    0.    0.    0.    0.    0.    0.    0.    1.\n",
      "  2.   ]\n",
      " [0.372 1.1   0.685 0.47  0.489 0.271 1.1   0.62  0.333 0.23  0.878 0.809\n",
      "  0.711]\n",
      " [1.    1.    1.    0.    0.    0.    0.    1.    0.    0.    0.    1.\n",
      "  1.   ]\n",
      " [0.    0.    0.    1.    2.    3.    0.    0.    0.    4.    0.    0.\n",
      "  0.   ]\n",
      " [0.385 0.643 0.222 0.957 0.535 0.408 0.403 0.756 0.68  0.49  0.725 0.436\n",
      "  0.987]]\n",
      "- Reward:  0\n",
      "- Is over?  False\n"
     ]
    }
   ],
   "source": [
    "i += 1\n",
    "print(\"Step numero \", i)\n",
    "s,r,b = env.step([[0,0,0,0,0,0,0,0,0,0,1,2,3],[0,2,1,3,4,5,0,0,0,6,0,0,0]],0)\n",
    "print(\"- Stato: \\n\",s)\n",
    "print(\"- Reward: \",r)\n",
    "print(\"- Is over? \",b)"
   ]
  },
  {
   "cell_type": "code",
   "execution_count": 14,
   "metadata": {},
   "outputs": [
    {
     "name": "stdout",
     "output_type": "stream",
     "text": [
      "Step numero  9\n",
      "- Stato: \n",
      " [[1.    0.    1.    1.    1.    0.    0.    1.    1.    1.    1.    1.\n",
      "  0.   ]\n",
      " [0.    0.    0.    0.    0.    0.    0.    0.    0.    0.    0.    0.\n",
      "  1.   ]\n",
      " [0.372 1.1   0.685 0.47  0.489 0.271 1.1   0.62  0.333 0.23  0.878 0.809\n",
      "  0.711]\n",
      " [1.    1.    1.    1.    0.    0.    0.    1.    0.    0.    0.    1.\n",
      "  1.   ]\n",
      " [0.    0.    0.    0.    1.    2.    0.    0.    0.    3.    0.    0.\n",
      "  0.   ]\n",
      " [0.385 0.643 0.222 0.957 0.535 0.408 0.403 0.756 0.68  0.49  0.725 0.436\n",
      "  0.987]]\n",
      "- Reward:  0\n",
      "- Is over?  False\n"
     ]
    }
   ],
   "source": [
    "i += 1\n",
    "print(\"Step numero \", i)\n",
    "s,r,b = env.step([[0,0,0,0,0,0,0,0,0,0,0,1,2],[0,0,0,1,2,3,0,0,0,4,0,0,0]])\n",
    "print(\"- Stato: \\n\",s)\n",
    "print(\"- Reward: \",r)\n",
    "print(\"- Is over? \",b)"
   ]
  },
  {
   "cell_type": "code",
   "execution_count": 15,
   "metadata": {},
   "outputs": [
    {
     "name": "stdout",
     "output_type": "stream",
     "text": [
      "Step numero  10\n",
      "- Stato: \n",
      " [[1.    0.    1.    1.    1.    0.    0.    1.    1.    1.    1.    1.\n",
      "  1.   ]\n",
      " [0.    0.    0.    0.    0.    0.    0.    0.    0.    0.    0.    0.\n",
      "  0.   ]\n",
      " [0.372 1.1   0.685 0.47  0.489 0.271 1.1   0.62  0.333 0.23  0.878 0.809\n",
      "  0.711]\n",
      " [1.    1.    1.    1.    1.    0.    0.    1.    0.    0.    0.    1.\n",
      "  1.   ]\n",
      " [0.    0.    0.    1.    0.    2.    0.    0.    0.    3.    0.    0.\n",
      "  0.   ]\n",
      " [0.385 0.643 0.222 0.957 0.535 0.408 0.403 0.756 0.68  0.49  0.725 0.436\n",
      "  0.987]]\n",
      "- Reward:  0\n",
      "- Is over?  False\n"
     ]
    }
   ],
   "source": [
    "i += 1\n",
    "print(\"Step numero \", i)\n",
    "s,r,b = env.step([[0,0,0,0,0,0,0,0,0,0,0,0,1],[0,0,0,1,2,3,0,0,0,4,0,0,0]])\n",
    "print(\"- Stato: \\n\",s)\n",
    "print(\"- Reward: \",r)\n",
    "print(\"- Is over? \",b)"
   ]
  },
  {
   "cell_type": "code",
   "execution_count": 16,
   "metadata": {},
   "outputs": [
    {
     "name": "stdout",
     "output_type": "stream",
     "text": [
      "Step numero  11\n",
      "- Stato: \n",
      " [[1.    0.    1.    1.    1.    0.    0.    1.    1.    1.    1.    1.\n",
      "  1.   ]\n",
      " [0.    0.    0.    0.    0.    0.    0.    0.    0.    0.    0.    0.\n",
      "  0.   ]\n",
      " [0.372 1.1   0.685 0.47  0.489 0.271 1.1   0.62  0.333 0.23  0.878 0.809\n",
      "  0.711]\n",
      " [1.    1.    1.    1.    1.    1.    0.    1.    0.    1.    0.    1.\n",
      "  1.   ]\n",
      " [0.    0.    0.    0.    0.    0.    0.    0.    0.    0.    0.    0.\n",
      "  0.   ]\n",
      " [0.385 0.643 0.222 0.957 0.535 0.408 0.403 0.756 0.68  0.49  0.725 0.436\n",
      "  0.987]]\n",
      "- Reward:  -5.819\n",
      "- Is over?  True\n"
     ]
    }
   ],
   "source": [
    "i += 1\n",
    "print(\"Step numero \", i)\n",
    "s,r,b = env.step([[0,0,0,0,0,0,0,0,0,0,0,0,0],[0,0,0,0,0,1,0,0,0,2,0,0,0]])\n",
    "print(\"- Stato: \\n\",s)\n",
    "print(\"- Reward: \",r)\n",
    "print(\"- Is over? \",b)"
   ]
  },
  {
   "cell_type": "code",
   "execution_count": 17,
   "metadata": {},
   "outputs": [
    {
     "data": {
      "text/plain": [
       "np.float64(5.819)"
      ]
     },
     "execution_count": 17,
     "metadata": {},
     "output_type": "execute_result"
    }
   ],
   "source": [
    "np.sum(env.operator_done*env.operator_execution_time)\n",
    "#np.sum(env.robot_done*env.robot_execution_time)"
   ]
  },
  {
   "cell_type": "code",
   "execution_count": null,
   "metadata": {},
   "outputs": [],
   "source": []
  }
 ],
 "metadata": {
  "colab": {
   "provenance": []
  },
  "kernelspec": {
   "display_name": "Python 3 (ipykernel)",
   "language": "python",
   "name": "python3"
  },
  "language_info": {
   "codemirror_mode": {
    "name": "ipython",
    "version": 3
   },
   "file_extension": ".py",
   "mimetype": "text/x-python",
   "name": "python",
   "nbconvert_exporter": "python",
   "pygments_lexer": "ipython3",
   "version": "3.12.7"
  }
 },
 "nbformat": 4,
 "nbformat_minor": 4
}
